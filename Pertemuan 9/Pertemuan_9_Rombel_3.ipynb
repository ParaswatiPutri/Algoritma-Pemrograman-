{
  "nbformat": 4,
  "nbformat_minor": 0,
  "metadata": {
    "colab": {
      "provenance": []
    },
    "kernelspec": {
      "name": "python3",
      "display_name": "Python 3"
    },
    "language_info": {
      "name": "python"
    }
  },
  "cells": [
    {
      "cell_type": "markdown",
      "source": [
        "List"
      ],
      "metadata": {
        "id": "pd9Ecw8klF6y"
      }
    },
    {
      "cell_type": "code",
      "source": [
        "#--- List\n",
        "\n",
        "# Kumpulan data angka\n",
        "data_angka = [1,5,2,3]\n",
        "print(data_angka)\n",
        "\n",
        "# Kumpulan data string\n",
        "data_string = [\"aku\", \"dia\", \"kamu\"]\n",
        "print(data_string)\n",
        "\n",
        "#kumpulan data boolean\n",
        "data_boolean = [True, False, True, False]\n",
        "print(data_boolean)\n",
        "\n",
        "#Kumpulan campuran\n",
        "data_campuran = [1, \"Sylus\", 2, \"Caleb\", True, \"Zayne\"]\n",
        "print(data_campuran)\n",
        "\n",
        "#cara alternatif membuat list\n",
        "data_range = range(0,10,2) #range(start, stop, step)\n",
        "print(data_range)\n",
        "data_list = list(data_range)\n",
        "print(data_list)\n",
        "\n",
        "#memanggil list menggunakan for\n",
        "list_for = [i for i in range (0,10)]\n",
        "print(list_for)\n",
        "\n",
        "#memanggil list menggunakan for\n",
        "list_for = [i **2 for i in range (0,10)]\n",
        "print(list_for)\n",
        "\n",
        "#membuat list menggunakan for pake if\n",
        "list_for_if = [i for i in range(0,11) if i !=2]\n",
        "print(list_for_if)\n",
        "\n",
        "#buat list menggunakan for tapi yang akan tampil hanya jika bilangan genap\n",
        "list_for_if = [i for i in range(0,11) if i %2 == 0]\n",
        "print(list_for_if)\n",
        "\n",
        "#buat list menggunakan for tapi yang akan tampil hanya jika bilangan ganjil\n",
        "list_for_if = [i for i in range(0,11) if i %2 != 0]\n",
        "print(list_for_if)"
      ],
      "metadata": {
        "colab": {
          "base_uri": "https://localhost:8080/"
        },
        "id": "4w0bo8BUlDZi",
        "outputId": "726c9df2-8f0a-4554-8612-71b6d39364d2"
      },
      "execution_count": null,
      "outputs": [
        {
          "output_type": "stream",
          "name": "stdout",
          "text": [
            "[1, 5, 2, 3]\n",
            "['aku', 'dia', 'kamu']\n",
            "[True, False, True, False]\n",
            "[1, 'Sylus', 2, 'Caleb', True, 'Zayne']\n",
            "range(0, 10, 2)\n",
            "[0, 2, 4, 6, 8]\n",
            "[0, 1, 2, 3, 4, 5, 6, 7, 8, 9]\n",
            "[0, 1, 4, 9, 16, 25, 36, 49, 64, 81]\n",
            "[0, 1, 3, 4, 5, 6, 7, 8, 9, 10]\n",
            "[0, 2, 4, 6, 8, 10]\n",
            "[1, 3, 5, 7, 9]\n"
          ]
        }
      ]
    },
    {
      "cell_type": "markdown",
      "source": [
        "Manipulasi List"
      ],
      "metadata": {
        "id": "8cng5ypws_Fu"
      }
    },
    {
      "cell_type": "code",
      "source": [
        "## --- Operasi List\n",
        "# index  0(-3)   1(-2)    2(-1)\n",
        "data = [\"Jennie\", \"Lisa\", \"Jisoo\"]\n",
        "\n",
        "#mengambil data dari list\n",
        "data_0 = data[0]\n",
        "print(f\"data pertama = {data_0} \")\n",
        "\n",
        "data_terakhir = data[-1]\n",
        "print(f\"panjang data = {data_terakhir}\")\n",
        "\n",
        "#mengambil info jumlah data dalam list\n",
        "panjang_data = len(data)\n",
        "print(f\"Panjang data = {panjang_data}\")\n",
        "\n",
        "#manipulasi data list\n",
        "\n",
        "#menambahkan item pada list sesuai posisi\n",
        "print(f\"data sebelum ditambah = \\n{data}\")\n",
        "\n",
        "#data.insert (posisi, item)\n",
        "\n",
        "data.insert(1, \"Rose\")\n",
        "print(f\"data sesudah ditambah = \\n{data}\")\n",
        "\n",
        " #menambah di akhir list\n",
        "data.append(\"Irene\")\n",
        "print(f\"data ditambah lagi = \\n{data}\")\n",
        "\n",
        "#menambah list dengan list\n",
        "data_baru = [\"Sylus\", \"Caleb\", \"Rafayel\"]\n",
        "data.extend(data_baru)\n",
        "print(f\"data gabungan = \\n{data}\")\n",
        "\n",
        "#merubah data\n",
        "#ubah data 2 menjadi 'Xavier'\n",
        "data[2] = \"Xavier\"\n",
        "print(f\"data rubah = \\n {data}\")\n",
        "\n",
        "#Mengahpus Data\n",
        "data.remove(\"Irene\")\n",
        "print(f\"data hapus = \\n{data}\")\n",
        "\n",
        "#Mengahpus data paling belakang\n",
        "data.pop()\n",
        "print(f\"data akhir = \\n{data}\")"
      ],
      "metadata": {
        "colab": {
          "base_uri": "https://localhost:8080/"
        },
        "id": "yRhnAou8uINh",
        "outputId": "36780b72-0ece-4be7-ced2-ec64d947cc13"
      },
      "execution_count": null,
      "outputs": [
        {
          "output_type": "stream",
          "name": "stdout",
          "text": [
            "data pertama = Jennie \n",
            "panjang data = Jisoo\n",
            "Panjang data = 3\n",
            "data sebelum ditambah = \n",
            "['Jennie', 'Lisa', 'Jisoo']\n",
            "data sesudah ditambah = \n",
            "['Jennie', 'Rose', 'Lisa', 'Jisoo']\n",
            "data ditambah lagi = \n",
            "['Jennie', 'Rose', 'Lisa', 'Jisoo', 'Irene']\n",
            "data gabungan = \n",
            "['Jennie', 'Rose', 'Lisa', 'Jisoo', 'Irene', 'Sylus', 'Caleb', 'Rafayel']\n",
            "data rubah = \n",
            " ['Jennie', 'Rose', 'Xavier', 'Jisoo', 'Irene', 'Sylus', 'Caleb', 'Rafayel']\n",
            "data hapus = \n",
            "['Jennie', 'Rose', 'Xavier', 'Jisoo', 'Sylus', 'Caleb', 'Rafayel']\n",
            "data akhir = \n",
            "['Jennie', 'Rose', 'Xavier', 'Jisoo', 'Sylus', 'Caleb']\n"
          ]
        }
      ]
    },
    {
      "cell_type": "markdown",
      "source": [
        "Operasi List"
      ],
      "metadata": {
        "id": "iP0K5e4ey7dW"
      }
    },
    {
      "cell_type": "code",
      "source": [
        "##---Operasi List---\n",
        "\n",
        "#index 0(-3)    1(-2)    2(-1)\n",
        "data_angka = [1, 5, 1, 4, 3, 2, 4, 3, 2, 3, 7, 8, 9, 0]\n",
        "print(f\"data angka = \\n{data_angka}\")\n",
        "\n",
        "#count data\n",
        "jumlah_data_4 = data_angka.count(4)\n",
        "jumlah_data_3 = data_angka.count(3)\n",
        "\n",
        "print(f\"jumlah angka 4 = {jumlah_data_4}\")\n",
        "print(f\"jumlah angka 3 = {jumlah_data_3}\")\n",
        "\n",
        "#Ambil posisi data\n",
        "\n",
        "data = [\"Sylus\", \"Caleb\", \"Rafayel\", \"Xavier\"]\n",
        "print(f\"data ={data}\")\n",
        "\n",
        "index_Caleb = data.index(\"Caleb\")\n",
        "index_Rafayel = data.index(\"Rafayel\")\n",
        "\n",
        "print(f\"index si Caleb = {index_Caleb}\")\n",
        "print(f\"index si Rafayel = {index_Rafayel}\")\n",
        "\n",
        "#Mengurutkan List\n",
        "print(f\"data angka sebelum sort = \\n{data_angka}\")\n",
        "data_angka.sort()\n",
        "print(f\"data angka sort = \\n{data_angka}\")\n",
        "\n",
        "print(f\"data = {data}\")\n",
        "data.sort()\n",
        "print(f\"data sort = {data}\")\n",
        "\n",
        "#Balik Listnya\n",
        "data_angka.reverse ()\n",
        "data.reverse()\n",
        "print(f\"data di reverse = \\n{data_angka}\")\n",
        "print(f\"data di reverse = \\n{data}\")\n"
      ],
      "metadata": {
        "id": "xW_RCxvay94G",
        "colab": {
          "base_uri": "https://localhost:8080/"
        },
        "outputId": "3c0231ef-3584-48fd-9778-2e62ab8c7506"
      },
      "execution_count": null,
      "outputs": [
        {
          "output_type": "stream",
          "name": "stdout",
          "text": [
            "data angka = \n",
            "[1, 5, 1, 4, 3, 2, 4, 3, 2, 3, 7, 8, 9, 0]\n",
            "jumlah angka 4 = 2\n",
            "jumlah angka 3 = 3\n",
            "data =['Sylus', 'Caleb', 'Rafayel', 'Xavier']\n",
            "index si Caleb = 1\n",
            "index si Rafayel = 2\n",
            "data angka sebelum sort = \n",
            "[1, 5, 1, 4, 3, 2, 4, 3, 2, 3, 7, 8, 9, 0]\n",
            "data angka sort = \n",
            "[0, 1, 1, 2, 2, 3, 3, 3, 4, 4, 5, 7, 8, 9]\n",
            "data = ['Sylus', 'Caleb', 'Rafayel', 'Xavier']\n",
            "data sort = ['Caleb', 'Rafayel', 'Sylus', 'Xavier']\n",
            "data di reverse = \n",
            "[9, 8, 7, 5, 4, 4, 3, 3, 3, 2, 2, 1, 1, 0]\n",
            "data di reverse = \n",
            "['Xavier', 'Sylus', 'Rafayel', 'Caleb']\n"
          ]
        }
      ]
    },
    {
      "cell_type": "markdown",
      "source": [
        "Nosted list / List Bersarang"
      ],
      "metadata": {
        "id": "5QFDbMKt3BuU"
      }
    },
    {
      "cell_type": "code",
      "source": [
        "#--- nosted list\n",
        "\n",
        "data_0 = [1,2]\n",
        "data_1 = [3,4]\n",
        "\n",
        "data_list_biasa = [1,2,3,4]\n",
        "print(f\"List biasa = {data_list_biasa}\")\n",
        "\n",
        "list_2D = [data_0,data_1]\n",
        "print(f\"List 2D = {list_2D}\")\n",
        "\n",
        "list_2D = [data_0,data_1,6,7]\n",
        "print(f\"List 2D = {list_2D}\")\n",
        "\n",
        "#contoh penggunaan\n",
        "peserta_0 = [\"Sylus\", 25, \"Laki-laki\"]\n",
        "peserta_1 = [\"Caleb\", 10, \"Laki-laki\"]\n",
        "peserta_2 = [\"Serena\", 21, \"Wanita\"]\n",
        "\n",
        "list_peserta = [peserta_0, peserta_1, peserta_2]\n",
        "print(f\"Info peserta : {list_peserta}\")\n",
        "\n",
        "for peserta in list_peserta:\n",
        "  print(f\"Nama\\t : {peserta[0]}\")\n",
        "  print(f\"Umur\\t : {peserta[1]}\")\n",
        "  print(f\"Gender\\t : {peserta[2]}\\n\")"
      ],
      "metadata": {
        "colab": {
          "base_uri": "https://localhost:8080/"
        },
        "id": "N0e_FMJ-3Ip8",
        "outputId": "30975538-0f2e-4f86-cec9-16308cc022c5"
      },
      "execution_count": 1,
      "outputs": [
        {
          "output_type": "stream",
          "name": "stdout",
          "text": [
            "List biasa = [1, 2, 3, 4]\n",
            "List 2D = [[1, 2], [3, 4]]\n",
            "List 2D = [[1, 2], [3, 4], 6, 7]\n",
            "Info peserta : [['Sylus', 25, 'Laki-laki'], ['Caleb', 10, 'Laki-laki'], ['Serena', 21, 'Wanita']]\n",
            "Nama\t : Sylus\n",
            "Umur\t : 25\n",
            "Gender\t : Laki-laki\n",
            "\n",
            "Nama\t : Caleb\n",
            "Umur\t : 10\n",
            "Gender\t : Laki-laki\n",
            "\n",
            "Nama\t : Serena\n",
            "Umur\t : 21\n",
            "Gender\t : Wanita\n",
            "\n"
          ]
        }
      ]
    },
    {
      "cell_type": "markdown",
      "source": [
        "Latihan / Tugas\n"
      ],
      "metadata": {
        "id": "xUNhffpdgMCM"
      }
    },
    {
      "cell_type": "code",
      "source": [
        "buah =['apel' , 'mangga' , 'jeruk' , 'anggur' , 'pisang']\n",
        "print(\"List awal :\", buah)\n",
        "\n",
        "#a. Tambahkan 'semangka' di akhi list\n",
        "buah.append('semangka')\n",
        "print(\"\\na. Setelah menambah 'semangka' :\", buah)\n",
        "\n",
        "#b. Sisipkan 'durian' di antara 'jeruk' dan 'anggur'\n",
        "buah.insert(4, 'durian') # indeks 4 karena anggur ada diindeks sebelum perubahan\n",
        "print(\"\\nb. Setelah menyisipkan 'durian' :\", buah)\n",
        "\n",
        "#c. Hapus mangga dari list\n",
        "buah.remove('mangga')\n",
        "print(\"\\nc. Setelah menghapus 'mangga' : \", buah)\n",
        "\n",
        "#d. Ubah 'pisang' mejadi 'nanas'\n",
        "buah[buah.index('pisang')] = 'nanas'\n",
        "print(\"\\nd. Setelah mengubah 'pisang' menjadi 'nanas' :\", buah)\n",
        "\n",
        "#e. Tampilkan 3 buah pertama\n",
        "print(\"\\ne. Tiga buah pertama :\", buah [: 3])"
      ],
      "metadata": {
        "colab": {
          "base_uri": "https://localhost:8080/"
        },
        "id": "_E_HQLU-gXTt",
        "outputId": "b59d7669-e528-47b9-c163-a1bcce75f801"
      },
      "execution_count": null,
      "outputs": [
        {
          "output_type": "stream",
          "name": "stdout",
          "text": [
            "List awal : ['apel', 'mangga', 'jeruk', 'anggur', 'pisang']\n",
            "\n",
            "a. Setelah menambah 'semangka' : ['apel', 'mangga', 'jeruk', 'anggur', 'pisang', 'semangka']\n",
            "\n",
            "b. Setelah menyisipkan 'durian' : ['apel', 'mangga', 'jeruk', 'anggur', 'durian', 'pisang', 'semangka']\n",
            "\n",
            "c. Setelah menghapus 'mangga' :  ['apel', 'jeruk', 'anggur', 'durian', 'pisang', 'semangka']\n",
            "\n",
            "d. Setelah mengubah 'pisang' menjadi 'nanas' : ['apel', 'jeruk', 'anggur', 'durian', 'nanas', 'semangka']\n",
            "\n",
            "e. Tiga buah pertama : ['apel', 'jeruk', 'anggur']\n"
          ]
        }
      ]
    },
    {
      "cell_type": "code",
      "source": [
        "angka = [ 45, 12 , 78 , 23 , 56 , 89 , 34]\n",
        "print(\"\\nList angka awal :\", angka)\n",
        "\n",
        "#a. Urutkan list secara ascending\n",
        "angka_asc = sorted(angka)\n",
        "print(\"\\na. Urut ascerding:\", angka_asc)\n",
        "\n",
        "#b. Urutkan list secara descending\n",
        "angka_desc = sorted(angka, reverse=True)\n",
        "print(\"\\nb. Urut descending:\", angka_desc)"
      ],
      "metadata": {
        "colab": {
          "base_uri": "https://localhost:8080/"
        },
        "id": "LcuZWBD5j3QM",
        "outputId": "04bda20e-2f0f-4d8f-af7c-238d549853ff"
      },
      "execution_count": null,
      "outputs": [
        {
          "output_type": "stream",
          "name": "stdout",
          "text": [
            "\n",
            "List angka awal : [45, 12, 78, 23, 56, 89, 34]\n",
            "\n",
            "a. Urut ascerding: [12, 23, 34, 45, 56, 78, 89]\n",
            "\n",
            "b. Urut descending: [89, 78, 56, 45, 34, 23, 12]\n"
          ]
        }
      ]
    }
  ]
}